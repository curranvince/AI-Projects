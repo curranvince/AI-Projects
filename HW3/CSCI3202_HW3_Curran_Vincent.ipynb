{
 "cells": [
  {
   "cell_type": "markdown",
   "metadata": {},
   "source": [
    "---\n",
    "\n",
    "# CSCI 3202, Fall 2022\n",
    "# Homework 3\n",
    "# Due: Friday September 16, 2022 at 6:00 PM\n",
    "\n",
    "### Note: There will be an extra-credit portion to this assigment posted on Tuesday that will cover Q-Learning. \n",
    "<br> \n",
    "\n",
    "### Your name: Vincent Curran\n",
    "\n",
    "<br> "
   ]
  },
  {
   "cell_type": "markdown",
   "metadata": {},
   "source": [
    "---\n",
    "\n",
    "There is no coding in this assignment. Type your answers in a Markdown cell using Latex formatting commands. If you're unfamiliar with Latex, it's used for formatting equations and other mathematical content. Here are a few examples that you might find useful.\n",
    "### Displaying an equation:\n",
    "$$P(a | b ) = 0.5$$\n",
    "### Displaying a fraction:\n",
    "$$ \\frac{a}{b}$$\n",
    "### Nested fractions:\n",
    "$$ \\frac{a}{\\frac{c}{b}}$$\n",
    "### Adding fractions:\n",
    "$$ \\frac{a}{b} + \\frac{d}{c}$$\n",
    "\n",
    "When you type your answers for each of the questions in this assignment, we need to see that you know how to set up the problem, including values assigned to individual components of the problem. We don't need to see every step of your calculations, just your final computed answer.\n",
    "\n",
    "For more information about how to use Latex, here is a great reference: https://ashki23.github.io/markdown-latex.html"
   ]
  },
  {
   "cell_type": "markdown",
   "metadata": {},
   "source": [
    "### 1. Playing Card Probabilities\n",
    "\n",
    "Consider a standard deck of playing cards and answer the following questions:"
   ]
  },
  {
   "cell_type": "markdown",
   "metadata": {},
   "source": [
    "### a. What is the probability of drawing a Jack of any suit?"
   ]
  },
  {
   "cell_type": "markdown",
   "metadata": {},
   "source": [
    "$$ \\frac{4}{52} = \\frac{1}{13}$$  "
   ]
  },
  {
   "cell_type": "markdown",
   "metadata": {},
   "source": [
    "### b. What is the probability of drawing a card that is of a black suit?"
   ]
  },
  {
   "cell_type": "markdown",
   "metadata": {},
   "source": [
    "$$ \\frac{26}{52} = \\frac{1}{2}$$ "
   ]
  },
  {
   "cell_type": "markdown",
   "metadata": {},
   "source": [
    "### c. What is the probability of drawing a Jack OR a card of a black suit?"
   ]
  },
  {
   "cell_type": "markdown",
   "metadata": {},
   "source": [
    "$$ \\frac{2}{52} + \\frac{26}{52} = \\frac{28}{52} = \\frac{7}{13}$$"
   ]
  },
  {
   "cell_type": "markdown",
   "metadata": {},
   "source": [
    "### d. Describe in your own words what a joint probability is."
   ]
  },
  {
   "cell_type": "markdown",
   "metadata": {},
   "source": [
    "Joint probability is the chace two things happen at the same time."
   ]
  },
  {
   "cell_type": "markdown",
   "metadata": {},
   "source": [
    "### 2. Rolling Dice\n",
    "\n",
    "Consider two die with 6 equally weighted sides."
   ]
  },
  {
   "cell_type": "markdown",
   "metadata": {},
   "source": [
    "### a. What is the probability of a dice roll summing to 7?"
   ]
  },
  {
   "cell_type": "markdown",
   "metadata": {},
   "source": [
    "$6 * 6 = 36$ possibilities \n",
    "\n",
    "Combos that sum to 7 are $A = \\{(6,1),(1,6),(5,2),(2,5),(4,3),(3,4)\\}$\n",
    "\n",
    "len(A) = 6 possibilities that sum to 7\n",
    "\n",
    "$\\frac{6}{36} = 0.167$"
   ]
  },
  {
   "cell_type": "markdown",
   "metadata": {},
   "source": [
    "### b. What is the probability of a dice roll summing to an even number 10 times in a row?"
   ]
  },
  {
   "cell_type": "markdown",
   "metadata": {},
   "source": [
    "Single roll being even $\\frac{18}{26} = 0.5$ probability\n",
    "\n",
    "To get 10 times in a row we raise to 10th power\n",
    "\n",
    "$0.5^{10} = 0.0009765625$"
   ]
  },
  {
   "cell_type": "markdown",
   "metadata": {},
   "source": [
    "### c. Let's say that you roll one dice at a time. Your first die comes up as an even number. What is the probability that your dice will sum to 7 after you roll the second die?"
   ]
  },
  {
   "cell_type": "markdown",
   "metadata": {},
   "source": [
    "We can have either 2 then 5, 4 then 3, or 6 then 1.\n",
    "\n",
    "This is only 3 positive outcomes of 36 total.\n",
    "\n",
    "Probability = $\\frac{3}{36} = 0.083$\n",
    "\n"
   ]
  },
  {
   "cell_type": "markdown",
   "metadata": {},
   "source": [
    "### 3. Conditional Probability\n",
    "\n",
    "A team of data scientists have been working on the very important task of training a classification model to predict whether an item of clothing is fashionable. They are collaborating with a team of fashion experts who provide the ground truth label for the training data set: they tell the scientists which clothing is fashionable. There are a total of 1822 photos of clothing in the data set, of which 309 are fashionable. The machine learning system correctly predicted 197 items of clothing as fashionable and 1491 items of clothing as unfashionable. Unfortunately, the system was imperfect, and incorrectly classified 22 items of unfashionable clothing as fashionable, and 112 items fashionable items as unfashionable. \n",
    "\n",
    "\n",
    "|                       | True_Fashion | True_Unfashion |\n",
    "| -----------           | -----------  | -----------    |\n",
    "| <b>Pred_Fashion</b>   | 197          | 22             |\n",
    "| <b>Pred_Unfashion</b> | 112          | 1491           |\n",
    "| <b>Total</b>          | 309          | 1513           |"
   ]
  },
  {
   "cell_type": "markdown",
   "metadata": {
    "tags": []
   },
   "source": [
    "#### (a)\n",
    "If a photo is actually fashionable, what is the chance the ML classifier correctly identified the photo as being fashionable?"
   ]
  },
  {
   "cell_type": "markdown",
   "metadata": {},
   "source": [
    "$309+1513 = 1822$ \\\n",
    "$\\frac{197}{1822} = 0.108$"
   ]
  },
  {
   "cell_type": "markdown",
   "metadata": {},
   "source": [
    "#### (b)\n",
    "We sample a photo from the data set and learn the ML algorithm predicted this photo was not fashionable. What is the probability that it was incorrect and the photo is actually fashionable?"
   ]
  },
  {
   "cell_type": "markdown",
   "metadata": {},
   "source": [
    "$\\frac{22}{1822} = 0.012$"
   ]
  },
  {
   "cell_type": "markdown",
   "metadata": {},
   "source": [
    "#### (c)\n",
    "What is the difference between a <i>joint probability</i> and a <i>marginal probability</i>?"
   ]
  },
  {
   "cell_type": "markdown",
   "metadata": {},
   "source": [
    "A joint probability is the probability two things happen at the same time. \\\n",
    "A marginal probability is the probability something happens no matter what else happens. \\\n",
    "So, the main difference is joint probability depends on something else (dependent), while marginal probability does not (it is independent)."
   ]
  },
  {
   "cell_type": "markdown",
   "metadata": {},
   "source": [
    "#### (d)\n",
    "What is the probability that the machine learning system predicted that an item of clothing was fashionable? Is this a joint or a marginal probability?"
   ]
  },
  {
   "cell_type": "markdown",
   "metadata": {},
   "source": [
    "The probability of an item being predicted fashionable is: \\\n",
    "$197+22 = 219$\n",
    "\n",
    "$\\frac{219}{1822} = 0.120$\n",
    "\n",
    "This is a joint probability because the prediction ultimately rests on the data gathered by the scientists. If the 'ground truth data set' contained more fashionable clothes, than we would expect more items to be classified as fashionable by the ML model. "
   ]
  },
  {
   "cell_type": "markdown",
   "metadata": {},
   "source": [
    "### 4. Bayes' Rule"
   ]
  },
  {
   "cell_type": "markdown",
   "metadata": {},
   "source": [
    "### (a). \n",
    "There are two boxes. Box 1 contains three red and five white balls. Box 2 contains two red and five white balls. A box is chosen at random: P(box=1) = P(box=2) = 0.5 and a ball chosen from this box turns out to be red. What is the probability that the red ball came from box 1? (i.e., P(box=1 | ball=red)=???)"
   ]
  },
  {
   "cell_type": "markdown",
   "metadata": {},
   "source": [
    "$P(ball=red | Box=1) = \\frac{3}{8} = 0.375$\n",
    "\n",
    "$P(Box=1) = 0.5$, $P(ball=red)=0.333$\n",
    "\n",
    "$P(Box=1 | ball=red) = \\frac{0.375*0.5}{0.333} = 0.563$"
   ]
  },
  {
   "cell_type": "markdown",
   "metadata": {},
   "source": [
    "### (b).\n",
    "\n",
    "Two balls are placed in a box as follows: A fair coin is tossed and a white ball is placed in the box if a heads occurs, otherwise a red ball is placed in the box. The coin is tossed again and a red ball is placed in the box if a tails occurs, otherwise a white ball is placed in the box. Balls are drawn from the box three times in succession (always replacing the drawn ball back in the box). It is found that on all three occasions a red ball is drawn. What is the probability that both balls in the box are red?"
   ]
  },
  {
   "cell_type": "markdown",
   "metadata": {},
   "source": [
    "Looking for chance both balls are red, given 3 red draws\n",
    "\n",
    "$P(\\text{2 in box | 3 draws}) = \\frac{P(\\text{3 draws | 2 in box}) * P(\\text{2 in box})}{P(\\text{3 draws})}$\n",
    "\n",
    "First find chance of 3 reds given both are red: 100%\n",
    "\n",
    "$P(\\text{3 draws | 2 in box}) = 1$\n",
    "\n",
    "Chance of 2 Reds: $0.5 * 0.5 = 0.25$ \\\n",
    "Chance of 1 Red: $0.5$ \\\n",
    "Chance of 2 Whites: $0.5 * 0.5 = 0.25$\n",
    "\n",
    "$P(\\text{2 in box}) = 0.25$\n",
    "\n",
    "$0.25 * 1 = 0.25$ \\\n",
    "$0.5 * (0.5 * 0.5 * 0.5) = 0.004$ \\\n",
    "$0.25 * 0 = 0$\n",
    "\n",
    "$P(\\text{3 draws}) = 0.254$\n",
    "\n",
    "$P(\\text{2 in box | 3 draws}) = \\frac{1*0.25}{0.254} = 0.984$"
   ]
  },
  {
   "cell_type": "markdown",
   "metadata": {},
   "source": [
    "### (c).\n",
    "A secret government agency has developed a scanner that determines whether a person is an alien imposter. The scanner detects alien imposters with 95% reliability. However, 1% of the time the test returns a false positive for an upstanding citizen. The alien imposters are very dangerous, but also quite rare, with a prevalence in the population of only 0.1%. Upon a tip from an informant, the agency has administered the scanner to a suspicious person. \n",
    "\n",
    "#### i. \n",
    "Use the *Law of Total Probability* to calculate the probability that the suspicious person will test positive.\n",
    "\n",
    "#### ii.\n",
    "What is the probability that the person is actually an alien imposter given that they do test positive?"
   ]
  },
  {
   "cell_type": "markdown",
   "metadata": {},
   "source": [
    "i. \n",
    "\n",
    "Not alien (99.9%): \\\n",
    "1% chance they are wrongly identified \\\n",
    "False positives = (99.9 * 0.01) = 0.00999\n",
    "\n",
    "Are alien (0.1%): \\\n",
    "95% chance correctly identified \\\n",
    "Positive positives = (0.001 * 0.95) = 0.00095\n",
    "\n",
    "Total Chance of Positive $= 0.00999+0.00095 = 0.01094$\n",
    "\n",
    "ii. \n",
    "\n",
    "$P(\\text{imposter | positive}) = \\frac{P(\\text{positive | imposter})*P(\\text{imposter})}{P(\\text{positive})}$\n",
    "\n",
    "$P(\\text{positive | imposter)} = 0.95$ \\\n",
    "$P(\\text{positive)} = 0.01094$ \\\n",
    "$P(\\text{imposter)} = 0.001$\n",
    "\n",
    "$P(\\text{imposter | positive}) = 0.086$"
   ]
  },
  {
   "cell_type": "code",
   "execution_count": null,
   "metadata": {},
   "outputs": [],
   "source": []
  }
 ],
 "metadata": {
  "kernelspec": {
   "display_name": "Python 3",
   "language": "python",
   "name": "python3"
  },
  "language_info": {
   "codemirror_mode": {
    "name": "ipython",
    "version": 3
   },
   "file_extension": ".py",
   "mimetype": "text/x-python",
   "name": "python",
   "nbconvert_exporter": "python",
   "pygments_lexer": "ipython3",
   "version": "3.8.3"
  }
 },
 "nbformat": 4,
 "nbformat_minor": 4
}
