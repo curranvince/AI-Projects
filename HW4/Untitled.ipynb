{
 "cells": [
  {
   "cell_type": "code",
   "execution_count": 1,
   "metadata": {},
   "outputs": [],
   "source": [
    "import numpy as np"
   ]
  },
  {
   "cell_type": "code",
   "execution_count": 6,
   "metadata": {},
   "outputs": [
    {
     "name": "stdout",
     "output_type": "stream",
     "text": [
      "-15.01948336229021\n",
      "-5.809142990314028\n",
      "2.70805020110221\n",
      "1.6094379124341003\n"
     ]
    },
    {
     "data": {
      "text/plain": [
       "0.0"
      ]
     },
     "execution_count": 6,
     "metadata": {},
     "output_type": "execute_result"
    }
   ],
   "source": [
    "print(np.log(0.0000003))\n",
    "print(np.log(0.003))\n",
    "\n",
    "print(np.log(15))\n",
    "print(np.log(5))\n",
    "\n",
    "\n"
   ]
  },
  {
   "cell_type": "code",
   "execution_count": 32,
   "metadata": {},
   "outputs": [
    {
     "name": "stdout",
     "output_type": "stream",
     "text": [
      "0.0006998750303249109 0.0007001200000000818\n"
     ]
    },
    {
     "name": "stderr",
     "output_type": "stream",
     "text": [
      "<ipython-input-32-466cce96d475>:4: RuntimeWarning: divide by zero encountered in log\n",
      "  np.log(4**-550)\n"
     ]
    },
    {
     "data": {
      "text/plain": [
       "-inf"
      ]
     },
     "execution_count": 32,
     "metadata": {},
     "output_type": "execute_result"
    }
   ],
   "source": [
    "x = np.log1p(0.0004) + np.log1p(0.0003)\n",
    "y = np.exp(x)-1\n",
    "print(x, y)\n",
    "np.log(4**-550)"
   ]
  },
  {
   "cell_type": "code",
   "execution_count": 20,
   "metadata": {},
   "outputs": [
    {
     "name": "stdout",
     "output_type": "stream",
     "text": [
      "0.48550781578170077\n",
      "-2.5902671654458267\n",
      "0.075\n",
      "0.625\n",
      "0.075\n"
     ]
    }
   ],
   "source": [
    "p1 = 0.25\n",
    "p2 = 0.30\n",
    "l = np.log1p(p1) + np.log1p(p2)\n",
    "z = np.log(p1) + np.log(p2)\n",
    "y = p1 * p2\n",
    "print(l)\n",
    "print(z)\n",
    "print(y)\n",
    "\n",
    "ln = np.exp(l)\n",
    "print(ln-1)\n",
    "\n",
    "ln = np.exp(z)\n",
    "print(ln)"
   ]
  },
  {
   "cell_type": "code",
   "execution_count": null,
   "metadata": {},
   "outputs": [],
   "source": [
    "def logAdd(p1, p2):\n",
    "    # Use logarithmic probabilities so we dont have to work with extremely small #s\n",
    "    # Add 1 to each probability so we dont have to deal with negatives\n",
    "    return np.log1p(p1) + np.log1p(p2)"
   ]
  },
  {
   "cell_type": "code",
   "execution_count": null,
   "metadata": {},
   "outputs": [],
   "source": [
    "if (m := np.exp(V[i-1][hmm.all_states[0]]['prob'])) <= 0:\n",
    "        print('BAD M T P', m)\n",
    "#print(V[i-1][hmm.all_states[0]]['prob'])"
   ]
  },
  {
   "cell_type": "code",
   "execution_count": null,
   "metadata": {},
   "outputs": [],
   "source": [
    "#   Find path of states w/ highest prob\n",
    "#     for i in range(len(V)):\n",
    "#         prob = 0.0\n",
    "#         best_state = None\n",
    "#         for state, data in V[i].items():\n",
    "#             if data['prob'] > prob:\n",
    "#                 prob = data['prob']\n",
    "#                 best_state = state\n",
    "#         path.append(best_state)"
   ]
  },
  {
   "cell_type": "code",
   "execution_count": null,
   "metadata": {},
   "outputs": [],
   "source": [
    "#             if so[i][input_id] == '_' and state == '_':\n",
    "#                 prev = V[i]['b']['prev']\n",
    "# Prob is equal to transmission*emission, unless we have a space, where we'll\n",
    "# correct the algorithm to know for sure theres a space"
   ]
  },
  {
   "cell_type": "code",
   "execution_count": null,
   "metadata": {},
   "outputs": [],
   "source": [
    "def viterbi(hmm, so, input_id):\n",
    "    def logAdd(p1, p2):\n",
    "        # Use logarithmic probabilities so we dont have to work with extremely small #s\n",
    "        # Add 1 to each probability so we dont have to deal with negatives\n",
    "        return np.log1p(p1) + np.log1p(p2)\n",
    "\n",
    "    V = [{}]\n",
    "    # 0 means we're feeding the states, 1 means we're feeding outputs\n",
    "\n",
    "    # Calculate probability of 1st char from emissions\n",
    "    for state in hmm.all_states:\n",
    "        V[0][state] = {'prob': logAdd(hmm.initial_p[state], hmm.emissions[state][so[0][input_id]]),\n",
    "                       'prev': None}\n",
    "\n",
    "    # For each state that appears, find the max chance of the next state\n",
    "    # When found, multiply that with the emission probability\n",
    "    # Then, this is the probability of being in that state at that point in time\n",
    "    for i in range(1, len(so)):\n",
    "        V.append({})\n",
    "        \n",
    "        for state in hmm.all_states:\n",
    "            max_transition_p = logAdd(np.exp(V[i-1][hmm.all_states[0]]['prob'])-1, hmm.transitions[hmm.all_states[0]][state])\n",
    "            prev = hmm.all_states[0]\n",
    "            # Find state with highest probability\n",
    "            # By multiplying previous states prob with the transition to this\n",
    "            for prev_s in hmm.all_states[1:]:\n",
    "                transition_p = logAdd(np.exp(V[i-1][prev_s]['prob'])-1, hmm.transitions[prev_s][state])\n",
    "                if transition_p > max_transition_p:\n",
    "                    max_transition_p = transition_p\n",
    "                    prev = prev_s\n",
    "            \n",
    "            V[i][state] = {'prob': logAdd(max_transition_p, hmm.emissions[state][so[i][input_id]]),\n",
    "                           'prev': prev}\n",
    "\n",
    "    path = []\n",
    "    prob = 0.0\n",
    "    best_state = None\n",
    "    # Find last state w/ highest prob\n",
    "    for state, data in V[-1].items():\n",
    "        if data['prob'] > prob:\n",
    "            prob = data['prob']\n",
    "            best_state = state\n",
    "    \n",
    "    path.append(best_state)\n",
    "    prev = best_state\n",
    "\n",
    "    # Backtrack through all the states that got us there\n",
    "    for i in range(len(V)-2, -1, -1):\n",
    "        path.insert(0, V[i+1][prev]['prev'])\n",
    "        prev = V[i+1][prev]['prev']\n",
    "\n",
    "    # print(V[-13].items())\n",
    "    return path"
   ]
  }
 ],
 "metadata": {
  "kernelspec": {
   "display_name": "Python 3",
   "language": "python",
   "name": "python3"
  },
  "language_info": {
   "codemirror_mode": {
    "name": "ipython",
    "version": 3
   },
   "file_extension": ".py",
   "mimetype": "text/x-python",
   "name": "python",
   "nbconvert_exporter": "python",
   "pygments_lexer": "ipython3",
   "version": "3.8.3"
  }
 },
 "nbformat": 4,
 "nbformat_minor": 4
}
